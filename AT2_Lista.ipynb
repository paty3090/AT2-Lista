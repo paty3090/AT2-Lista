{
  "cells": [
    {
      "cell_type": "markdown",
      "metadata": {
        "id": "view-in-github",
        "colab_type": "text"
      },
      "source": [
        "<a href=\"https://colab.research.google.com/github/paty3090/AT2-Lista/blob/main/AT2_Lista.ipynb\" target=\"_parent\"><img src=\"https://colab.research.google.com/assets/colab-badge.svg\" alt=\"Open In Colab\"/></a>"
      ]
    },
    {
      "cell_type": "markdown",
      "source": [
        "# Crie uma lista de compras de um supermercado com 10 elementos.\n",
        "# Na posição 6 crie uma lista com 5 elementos.\n",
        "\n",
        "# Altere 2 elementos da lista.\n",
        "# Exclua 3 elementos da lista.\n",
        "# Adicione 4 elementos na lista.\n",
        "\n",
        "\n",
        "# Acesse o terceiro e quinto elemento da lista.\n",
        "\n",
        "# Mostre o número de elementos da lista.\n",
        "\n",
        "# Mostre todos os elementos da lista.\n"
      ],
      "metadata": {
        "id": "EaiAHLVM3mtx"
      }
    },
    {
      "cell_type": "code",
      "source": [
        "lista = ['macarrão', 'arroz', 'feijão', 'manteiga', 'ovos', ['trigo', 'leite', 'açúcar', 'chocolate', 'fermento'], 'bolacha', 'biscoito', 'cebola', 'peixe', 'queijo']\n",
        "lista\n"
      ],
      "metadata": {
        "colab": {
          "base_uri": "https://localhost:8080/"
        },
        "id": "JrHsRjEg5wq9",
        "outputId": "5faeb7cb-4658-4fcc-a0c9-9f00f3bbc300"
      },
      "execution_count": 25,
      "outputs": [
        {
          "output_type": "execute_result",
          "data": {
            "text/plain": [
              "['macarrão',\n",
              " 'arroz',\n",
              " 'feijão',\n",
              " 'manteiga',\n",
              " 'ovos',\n",
              " ['trigo', 'leite', 'açúcar', 'chocolate', 'fermento'],\n",
              " 'bolacha',\n",
              " 'biscoito',\n",
              " 'cebola',\n",
              " 'peixe',\n",
              " 'queijo']"
            ]
          },
          "metadata": {},
          "execution_count": 25
        }
      ]
    },
    {
      "cell_type": "code",
      "source": [
        "\n",
        "lista[1] = 'farinha'  # Alterando 'arroz' para 'farinha'\n",
        "lista[2] = 'lentilhas'  # Alterando 'feijão' para 'lentilhas'\n",
        "\n",
        "print(lista)\n"
      ],
      "metadata": {
        "colab": {
          "base_uri": "https://localhost:8080/"
        },
        "id": "2fo7htOT8ZT0",
        "outputId": "740f0c88-01af-431d-923f-0c970a33177f"
      },
      "execution_count": null,
      "outputs": [
        {
          "output_type": "stream",
          "name": "stdout",
          "text": [
            "['macarrão', 'farinha', 'lentilhas', 'manteiga', 'ovos', ['trigo', 'leite', 'açúcar', 'chocolate', 'fermento'], 'bolacha', 'biscoito', 'cebola', 'peixe', 'queijo']\n"
          ]
        }
      ]
    },
    {
      "cell_type": "code",
      "source": [
        "lista = ['macarrão', 'arroz', 'feijão', 'manteiga', 'ovos', ['trigo', 'leite', 'açúcar', 'chocolate', 'fermento'], 'bolacha', 'biscoito', 'cebola', 'peixe', 'queijo']\n",
        "\n",
        "\n",
        "lista.pop(0)\n",
        "lista.pop(1)\n",
        "lista.pop(2)\n",
        "\n",
        "print(lista)\n"
      ],
      "metadata": {
        "colab": {
          "base_uri": "https://localhost:8080/"
        },
        "id": "bcby1Hi-9MmN",
        "outputId": "b6e6de9b-69d7-44fb-d055-f001dbb78e14"
      },
      "execution_count": 26,
      "outputs": [
        {
          "output_type": "stream",
          "name": "stdout",
          "text": [
            "['arroz', 'manteiga', ['trigo', 'leite', 'açúcar', 'chocolate', 'fermento'], 'bolacha', 'biscoito', 'cebola', 'peixe', 'queijo']\n"
          ]
        }
      ]
    },
    {
      "cell_type": "code",
      "source": [
        "lista = ['macarrão', 'arroz', 'feijão', 'manteiga', 'ovos', ['trigo', 'leite', 'açúcar', 'chocolate', 'fermento'], 'bolacha', 'biscoito', 'cebola', 'peixe', 'queijo']\n",
        "\n",
        "lista.append('sabão')\n",
        "lista.append('creme')\n",
        "lista.append('escova')\n",
        "lista.append('detergente')\n",
        "\n",
        "print(lista)"
      ],
      "metadata": {
        "id": "GsK21ZdF-voI",
        "colab": {
          "base_uri": "https://localhost:8080/"
        },
        "outputId": "940d7577-d5f3-41d2-c653-100ce74e36a1"
      },
      "execution_count": 27,
      "outputs": [
        {
          "output_type": "stream",
          "name": "stdout",
          "text": [
            "['macarrão', 'arroz', 'feijão', 'manteiga', 'ovos', ['trigo', 'leite', 'açúcar', 'chocolate', 'fermento'], 'bolacha', 'biscoito', 'cebola', 'peixe', 'queijo', 'sabão', 'creme', 'escova', 'detergente']\n"
          ]
        }
      ]
    },
    {
      "cell_type": "code",
      "source": [
        "lista = ['macarrão', 'arroz', 'feijão', 'manteiga', 'ovos', ['trigo', 'leite', 'açúcar', 'chocolate', 'fermento'], 'bolacha', 'biscoito', 'cebola', 'peixe', 'queijo']\n",
        "terceiro_lista = lista[2]\n",
        "quinto_lista = lista[4]\n",
        "\n",
        "print(terceiro_lista, quinto_lista)"
      ],
      "metadata": {
        "colab": {
          "base_uri": "https://localhost:8080/"
        },
        "id": "YEjTwoXBC-Yx",
        "outputId": "e867b91c-56ce-4921-d7d9-4221894a5a76"
      },
      "execution_count": 28,
      "outputs": [
        {
          "output_type": "stream",
          "name": "stdout",
          "text": [
            "feijão ovos\n"
          ]
        }
      ]
    },
    {
      "cell_type": "code",
      "source": [
        "lista = ['macarrão', 'arroz', 'feijão', 'manteiga', 'ovos', ['trigo', 'leite', 'açúcar', 'chocolate', 'fermento'], 'bolacha', 'biscoito', 'cebola', 'peixe', 'queijo']\n",
        "print(len(lista))"
      ],
      "metadata": {
        "colab": {
          "base_uri": "https://localhost:8080/"
        },
        "id": "Ft-m3AgQFHbw",
        "outputId": "94744606-6380-4b0e-dcf6-89e02820f8b8"
      },
      "execution_count": 29,
      "outputs": [
        {
          "output_type": "stream",
          "name": "stdout",
          "text": [
            "11\n"
          ]
        }
      ]
    },
    {
      "cell_type": "code",
      "source": [
        "lista = ['macarrão', 'arroz', 'feijão', 'manteiga', 'ovos', ['trigo', 'leite', 'açúcar', 'chocolate', 'fermento'], 'bolacha', 'biscoito', 'cebola', 'peixe', 'queijo']\n",
        "print(lista)\n"
      ],
      "metadata": {
        "colab": {
          "base_uri": "https://localhost:8080/"
        },
        "id": "-uPEBeaXG1J0",
        "outputId": "13297fe5-3866-437f-824f-c834f9023884"
      },
      "execution_count": 31,
      "outputs": [
        {
          "output_type": "stream",
          "name": "stdout",
          "text": [
            "['macarrão', 'arroz', 'feijão', 'manteiga', 'ovos', ['trigo', 'leite', 'açúcar', 'chocolate', 'fermento'], 'bolacha', 'biscoito', 'cebola', 'peixe', 'queijo']\n"
          ]
        }
      ]
    }
  ],
  "metadata": {
    "colab": {
      "toc_visible": true,
      "provenance": [],
      "include_colab_link": true
    },
    "kernelspec": {
      "display_name": "Python 3",
      "name": "python3"
    }
  },
  "nbformat": 4,
  "nbformat_minor": 0
}